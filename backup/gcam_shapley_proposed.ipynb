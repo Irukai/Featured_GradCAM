{
 "cells": [
  {
   "cell_type": "code",
   "execution_count": 141,
   "metadata": {},
   "outputs": [],
   "source": [
    "import numpy as np\n",
    "import matplotlib.pyplot as plt\n",
    "\n",
    "import torch\n",
    "import torch.nn as nn\n",
    "import torch.nn.functional as F\n",
    "from torch.utils.data import Dataset, DataLoader\n",
    "from torch import optim\n",
    "import random\n",
    "from sklearn.metrics import precision_score, recall_score, f1_score\n",
    "\n",
    "import torch, gc\n",
    "gc.collect()\n",
    "torch.cuda.empty_cache()"
   ]
  },
  {
   "cell_type": "code",
   "execution_count": 142,
   "metadata": {},
   "outputs": [],
   "source": [
    "def clear_gpu_cache():\n",
    "    gc.collect()\n",
    "    torch.cuda.empty_cache()"
   ]
  },
  {
   "cell_type": "code",
   "execution_count": 143,
   "metadata": {},
   "outputs": [],
   "source": [
    "# Hyperparameters\n",
    "LR = 1e-4\n",
    "EPOCHS = 50\n",
    "BATCH_SIZE = 32\n",
    "NORMAL_DATACOUNT = 400\n",
    "ANORMALY_DATACOUNT = 400\n",
    "TOTAL_DATACOUNT = NORMAL_DATACOUNT + ANORMALY_DATACOUNT"
   ]
  },
  {
   "cell_type": "code",
   "execution_count": 144,
   "metadata": {},
   "outputs": [
    {
     "data": {
      "text/plain": [
       "device(type='cuda')"
      ]
     },
     "execution_count": 144,
     "metadata": {},
     "output_type": "execute_result"
    }
   ],
   "source": [
    "device = torch.device('cuda' if torch.cuda.is_available() else 'cpu')\n",
    "device"
   ]
  },
  {
   "cell_type": "code",
   "execution_count": 145,
   "metadata": {},
   "outputs": [],
   "source": [
    "normal_data = np.random.randn(NORMAL_DATACOUNT, 21, 21)\n",
    "normal_test_data = np.random.randn(NORMAL_DATACOUNT, 21, 21)\n",
    "anomaly_data = np.random.randn(ANORMALY_DATACOUNT, 21, 21)\n",
    "anomaly_test_data = np.random.randn(ANORMALY_DATACOUNT, 21, 21)\n",
    "gradcam_data = np.zeros((TOTAL_DATACOUNT, 21, 21))\n",
    "gradcam_test_data = np.zeros((TOTAL_DATACOUNT, 21, 21))"
   ]
  },
  {
   "cell_type": "code",
   "execution_count": 146,
   "metadata": {},
   "outputs": [
    {
     "name": "stdout",
     "output_type": "stream",
     "text": [
      "(400, 21, 21) (400, 21, 21)\n",
      "(400, 21, 21) (400, 21, 21)\n",
      "(800, 21, 21) (800, 21, 21)\n"
     ]
    }
   ],
   "source": [
    "print(normal_data.shape, normal_test_data.shape)\n",
    "print(anomaly_data.shape, anomaly_test_data.shape)\n",
    "print(gradcam_data.shape, gradcam_test_data.shape)"
   ]
  },
  {
   "cell_type": "code",
   "execution_count": 147,
   "metadata": {},
   "outputs": [],
   "source": [
    "def min_max_normalize(array, is_tensor=True):\n",
    "    eps = np.finfo(float).eps  # 아주 작은 값\n",
    "\n",
    "    if is_tensor:\n",
    "        if array.dim() == 3:  # (1000, 21, 21)\n",
    "            min_val = torch.amin(array, dim=(1, 2), keepdim=True)\n",
    "            max_val = torch.amax(array, dim=(1, 2), keepdim=True)\n",
    "        elif array.dim() == 4:  # (batch, channels, height, width)\n",
    "            min_val = torch.amin(array, dim=(2, 3), keepdim=True)\n",
    "            max_val = torch.amax(array, dim=(2, 3), keepdim=True)\n",
    "        else:\n",
    "            raise ValueError(\"Unexpected tensor shape. Expected a 3D or 4D tensor.\")\n",
    "        \n",
    "        normalized_array = (array - min_val) / (max_val - min_val + eps)\n",
    "    else:\n",
    "        if array.ndim == 3:  # (1000, 21, 21)\n",
    "            min_val = np.min(array, axis=(1, 2), keepdims=True)\n",
    "            max_val = np.max(array, axis=(1, 2), keepdims=True)\n",
    "        elif array.ndim == 4:  # (batch, channels, height, width)\n",
    "            min_val = np.min(array, axis=(2, 3), keepdims=True)\n",
    "            max_val = np.max(array, axis=(2, 3), keepdims=True)\n",
    "        else:\n",
    "            raise ValueError(\"Unexpected array shape. Expected a 3D or 4D array.\")\n",
    "        \n",
    "        normalized_array = (array - min_val) / (max_val - min_val + eps)\n",
    "        \n",
    "    return normalized_array"
   ]
  },
  {
   "cell_type": "code",
   "execution_count": 148,
   "metadata": {},
   "outputs": [],
   "source": [
    "def plot_data(data, title):\n",
    "    plt.imshow(data)\n",
    "    plt.title(title)\n",
    "    plt.colorbar()\n",
    "    plt.show()\n",
    "\n",
    "def make_point(data, index, weight):\n",
    "    position = []\n",
    "    for k, d in enumerate(data):\n",
    "        temp = []\n",
    "        for idx, w in zip(index[k], weight[k]):\n",
    "            i = idx//3 * 5 + 5\n",
    "            j = idx%3 * 5 + 5\n",
    "            d[i, j] = w * 100\n",
    "            temp.append((i, j))\n",
    "        position.append(temp)\n",
    "    \n",
    "    data = min_max_normalize(data, False)\n",
    "    return position, data\n",
    "\n",
    "def make_weight(size, count):\n",
    "    weight = []\n",
    "    for j in range(4): # 0 1 2 3\n",
    "        for i in range(size//4): \n",
    "            idx = (size//4)*j + i   # 0~124 125~249 250~374 375~499\n",
    "            w = np.random.uniform(0.1, 0.9, len(count[idx]))\n",
    "            weight.append(w)\n",
    "    return weight\n",
    "\n",
    "tr_index = []\n",
    "te_index = []\n",
    "\n",
    "count = [[3, 4, 5], [1, 4, 7], [1, 3, 4, 5, 7], [0, 1, 2, 3, 4, 5, 6, 7, 8]]\n",
    "\n",
    "for i in range(4):\n",
    "    for j in range(ANORMALY_DATACOUNT//4):\n",
    "        tr_index.append(count[i])\n",
    "\n",
    "for i in range(4):\n",
    "    for j in range(ANORMALY_DATACOUNT//4):\n",
    "        te_index.append(count[i])\n",
    "\n",
    "weight = make_weight(ANORMALY_DATACOUNT, tr_index)\n",
    "test_weight = make_weight(ANORMALY_DATACOUNT, te_index)\n",
    "\n",
    "position, anomaly_data = make_point(anomaly_data, tr_index, weight)\n",
    "_, anomaly_test_data = make_point(anomaly_test_data, te_index, test_weight)"
   ]
  },
  {
   "cell_type": "code",
   "execution_count": 149,
   "metadata": {},
   "outputs": [],
   "source": [
    "normal_weight = []\n",
    "normal_test_weight = []\n",
    "\n",
    "for i in range(NORMAL_DATACOUNT):\n",
    "    n_w = random.uniform(0.1, 0.9)\n",
    "    normal_data[i, 10, 10] = n_w * 100\n",
    "    normal_weight.append(n_w)\n",
    "\n",
    "normal_data = min_max_normalize(normal_data, False)\n",
    "    \n",
    "for i in range(NORMAL_DATACOUNT):\n",
    "    n_w = random.uniform(0.1, 0.9)\n",
    "    normal_test_data[i, 10, 10] = n_w * 100\n",
    "    normal_test_weight.append(n_w)\n",
    "    \n",
    "normal_test_data = min_max_normalize(normal_test_data, False)\n"
   ]
  },
  {
   "cell_type": "code",
   "execution_count": 150,
   "metadata": {},
   "outputs": [],
   "source": [
    "train_data = np.vstack((normal_data, anomaly_data))\n",
    "test_data = np.vstack((normal_test_data, anomaly_test_data))"
   ]
  },
  {
   "cell_type": "code",
   "execution_count": 151,
   "metadata": {},
   "outputs": [
    {
     "data": {
      "text/plain": [
       "((800, 21, 21), (800, 21, 21))"
      ]
     },
     "execution_count": 151,
     "metadata": {},
     "output_type": "execute_result"
    }
   ],
   "source": [
    "train_data.shape, test_data.shape"
   ]
  },
  {
   "cell_type": "code",
   "execution_count": 152,
   "metadata": {},
   "outputs": [
    {
     "name": "stdout",
     "output_type": "stream",
     "text": [
      "3 [0.66193498 0.51851652 0.46674243]\n"
     ]
    },
    {
     "data": {
      "image/png": "[encoded data removed]",
      "text/plain": [
       "<Figure size 640x480 with 2 Axes>"
      ]
     },
     "metadata": {},
     "output_type": "display_data"
    },
    {
     "data": {
      "image/png": "[encoded data removed]",
      "text/plain": [
       "<Figure size 640x480 with 2 Axes>"
      ]
     },
     "metadata": {},
     "output_type": "display_data"
    },
    {
     "data": {
      "text/plain": [
       "(None, None)"
      ]
     },
     "execution_count": 152,
     "metadata": {},
     "output_type": "execute_result"
    }
   ],
   "source": [
    "id = 10\n",
    "print(len(tr_index[id]), weight[id])\n",
    "plot_data(train_data[id], 'Normal data'), plot_data(train_data[id+NORMAL_DATACOUNT], 'Anomaly data')"
   ]
  },
  {
   "cell_type": "code",
   "execution_count": 153,
   "metadata": {},
   "outputs": [
    {
     "data": {
      "text/plain": [
       "(21, 21)"
      ]
     },
     "execution_count": 153,
     "metadata": {},
     "output_type": "execute_result"
    }
   ],
   "source": [
    "train_data[NORMAL_DATACOUNT].shape"
   ]
  },
  {
   "cell_type": "code",
   "execution_count": 154,
   "metadata": {},
   "outputs": [],
   "source": [
    "normal_weight = np.array(normal_weight).reshape(NORMAL_DATACOUNT, 1)\n",
    "weight = list(normal_weight) + weight\n",
    "position = [[(10, 10)]]*NORMAL_DATACOUNT + position"
   ]
  },
  {
   "cell_type": "code",
   "execution_count": 155,
   "metadata": {},
   "outputs": [
    {
     "data": {
      "text/plain": [
       "800"
      ]
     },
     "execution_count": 155,
     "metadata": {},
     "output_type": "execute_result"
    }
   ],
   "source": [
    "len(position)"
   ]
  },
  {
   "cell_type": "code",
   "execution_count": 156,
   "metadata": {},
   "outputs": [
    {
     "data": {
      "text/plain": [
       "list"
      ]
     },
     "execution_count": 156,
     "metadata": {},
     "output_type": "execute_result"
    }
   ],
   "source": [
    "type(weight)"
   ]
  },
  {
   "cell_type": "code",
   "execution_count": 157,
   "metadata": {},
   "outputs": [],
   "source": [
    "def generate_cross_mask(shape, center, length):\n",
    "    \"\"\"\n",
    "    십자가 모양의 마스크를 생성한다 (중심에서 멀어질수록 약하게 강조)\n",
    "    \n",
    "    Args:\n",
    "    - shape (tuple): 마스크의 크기 (height, width)\n",
    "    - center (tuple): 십자가 중심의 (row, col) 위치\n",
    "    - length (int): 십자가의 팔 길이\n",
    "    \n",
    "    Returns:\n",
    "    - mask (numpy.ndarray): 십자가 모양의 강조 마스크\n",
    "    \"\"\"\n",
    "    height, width = shape\n",
    "    center_row, center_col = center\n",
    "    mask = np.zeros((height, width))\n",
    "    \n",
    "    for r in range(max(center_row - length, 0), min(center_row + length + 1, height)):\n",
    "        distance = abs(center_row - r)\n",
    "        intensity = 1 - (distance / length)\n",
    "        mask[r, center_col] = intensity\n",
    "    \n",
    "    for c in range(max(center_col - length, 0), min(center_col + length + 1, width)):\n",
    "        distance = abs(center_col - c)\n",
    "        intensity = 1 - (distance / length)\n",
    "        mask[center_row, c] = intensity\n",
    "    \n",
    "    return mask\n",
    "\n",
    "def generate_gradcam_labels(input_images, highlight_positions, weight, cross_length=4):\n",
    "    \"\"\"\n",
    "    입력 이미지를 받아 특정 위치에 십자가 모양으로 강조한 이미지를 생성하는 함수.\n",
    "    \n",
    "    Args:\n",
    "    - input_images (numpy.ndarray): (1000, 21, 21) shape의 입력 이미지\n",
    "    - highlight_positions (list): (1000, 강조할 위치 (row, col))의 리스트\n",
    "    - cross_length (int): 십자가의 팔 길이\n",
    "    \n",
    "    Returns:\n",
    "    - output_images (numpy.ndarray): 강조된 부분이 있는 이미지들과 동일한 shape\n",
    "    \"\"\"\n",
    "    output_images = input_images.copy()\n",
    "    height, width = input_images.shape[1], input_images.shape[2]  \n",
    "    \n",
    "    for i, img in enumerate(output_images):\n",
    "        for center, w in zip(highlight_positions[i], weight[i]):\n",
    "            mask = generate_cross_mask((height, width), center, cross_length)\n",
    "            img += mask*w*20  # 강조 마스크를 이미지에 추가\n",
    "    \n",
    "    tensor_img = torch.tensor(output_images, dtype=torch.float32)\n",
    "    norm_img = min_max_normalize(tensor_img)\n",
    "    return norm_img\n",
    "\n",
    "\n",
    "# GradCAM Label 데이터 생성\n",
    "gradcam_labels = generate_gradcam_labels(gradcam_data, position, weight, cross_length=4)"
   ]
  },
  {
   "cell_type": "code",
   "execution_count": 158,
   "metadata": {},
   "outputs": [
    {
     "data": {
      "image/png": "[encoded data removed]",
      "text/plain": [
       "<Figure size 600x600 with 2 Axes>"
      ]
     },
     "metadata": {},
     "output_type": "display_data"
    }
   ],
   "source": [
    "# 첫 번째 이미지 (입력 데이터 중 하나) 시각화\n",
    "plt.figure(figsize=(6, 6))\n",
    "plt.imshow(train_data[NORMAL_DATACOUNT+150])\n",
    "plt.title(\"Input Image [Sample]\")\n",
    "plt.colorbar()\n",
    "plt.show()"
   ]
  },
  {
   "cell_type": "code",
   "execution_count": 159,
   "metadata": {},
   "outputs": [
    {
     "data": {
      "image/png": "[encoded data removed]",
      "text/plain": [
       "<Figure size 600x600 with 2 Axes>"
      ]
     },
     "metadata": {},
     "output_type": "display_data"
    }
   ],
   "source": [
    "# 첫 번째 이미지 (GradCAM Label 데이터 중 하나) 시각화\n",
    "plt.figure(figsize=(6, 6))\n",
    "plt.imshow(gradcam_labels[NORMAL_DATACOUNT+150].numpy())\n",
    "plt.title(\"GradCAM Label Data [Sample]\")\n",
    "plt.colorbar()\n",
    "plt.show()"
   ]
  },
  {
   "cell_type": "code",
   "execution_count": 160,
   "metadata": {},
   "outputs": [
    {
     "data": {
      "text/plain": [
       "(torch.Size([800, 21, 21]), torch.Size([800, 21, 21]))"
      ]
     },
     "execution_count": 160,
     "metadata": {},
     "output_type": "execute_result"
    }
   ],
   "source": [
    "gradcam_labels = generate_gradcam_labels(gradcam_data, position, weight, cross_length=1)\n",
    "gradcam_test_labels = generate_gradcam_labels(gradcam_test_data, position, weight, cross_length=1)\n",
    "\n",
    "gradcam_labels.shape, gradcam_test_labels.shape"
   ]
  },
  {
   "cell_type": "code",
   "execution_count": 161,
   "metadata": {},
   "outputs": [
    {
     "data": {
      "text/plain": [
       "(tensor([[1., 0.],\n",
       "         [1., 0.],\n",
       "         [1., 0.],\n",
       "         ...,\n",
       "         [0., 1.],\n",
       "         [0., 1.],\n",
       "         [0., 1.]]),\n",
       " tensor([[1., 0.],\n",
       "         [1., 0.],\n",
       "         [1., 0.],\n",
       "         ...,\n",
       "         [0., 1.],\n",
       "         [0., 1.],\n",
       "         [0., 1.]]),\n",
       " torch.Size([800, 2]),\n",
       " torch.Size([800, 2]))"
      ]
     },
     "execution_count": 161,
     "metadata": {},
     "output_type": "execute_result"
    }
   ],
   "source": [
    "def make_labels(size):\n",
    "    l = np.zeros(shape=(size, 2))\n",
    "    for i in range(0, size//2):\n",
    "        l[i, 0] = 1\n",
    "    for j in range(size//2, size):\n",
    "        l[j, 1] = 1\n",
    "    return l\n",
    "\n",
    "train_label = make_labels(TOTAL_DATACOUNT)\n",
    "test_label = make_labels(TOTAL_DATACOUNT)\n",
    "\n",
    "train_label = torch.tensor(train_label, dtype=torch.float32)\n",
    "test_label = torch.tensor(test_label, dtype=torch.float32)\n",
    "\n",
    "train_label, test_label, train_label.shape, test_label.shape"
   ]
  },
  {
   "cell_type": "code",
   "execution_count": 162,
   "metadata": {},
   "outputs": [
    {
     "data": {
      "text/plain": [
       "tensor([400., 400.])"
      ]
     },
     "execution_count": 162,
     "metadata": {},
     "output_type": "execute_result"
    }
   ],
   "source": [
    "torch.sum(train_label, dim=0)"
   ]
  },
  {
   "cell_type": "code",
   "execution_count": 163,
   "metadata": {},
   "outputs": [
    {
     "data": {
      "text/plain": [
       "(torch.Size([32, 1, 21, 21]), torch.Size([32, 2]), torch.Size([32, 1, 21, 21]))"
      ]
     },
     "execution_count": 163,
     "metadata": {},
     "output_type": "execute_result"
    }
   ],
   "source": [
    "class CustomDataset(Dataset):\n",
    "    def __init__(self, data, label, gcam_label):\n",
    "        self.data = data\n",
    "        self.label = label\n",
    "        self.gcam_label = gcam_label\n",
    "        \n",
    "\n",
    "    def __len__(self):\n",
    "        return len(self.data)\n",
    "    \n",
    "    def __getitem__(self, idx):\n",
    "        return torch.tensor(self.data[idx], dtype=torch.float32).unsqueeze(0), self.label[idx], self.gcam_label[idx].unsqueeze(0)\n",
    "        \n",
    "train_dataset = CustomDataset(train_data, train_label, gradcam_labels)\n",
    "train_dataLoader = DataLoader(train_dataset, batch_size=BATCH_SIZE, shuffle=True)\n",
    "\n",
    "\n",
    "test_dataset = CustomDataset(test_data, test_label, gradcam_labels)\n",
    "test_dataLoader = DataLoader(test_dataset, batch_size=BATCH_SIZE, shuffle=True)\n",
    "\n",
    "d, l, gl = next(iter(train_dataLoader))\n",
    "d.shape, l.shape, gl.shape"
   ]
  },
  {
   "cell_type": "markdown",
   "metadata": {},
   "source": [
    "# GradCAM"
   ]
  },
  {
   "cell_type": "code",
   "execution_count": 164,
   "metadata": {},
   "outputs": [],
   "source": [
    "class Gradcam(nn.Module):\n",
    "    def __init__(self):\n",
    "        super(Gradcam, self).__init__()\n",
    "\n",
    "        def CBALayer(in_channels, out_channels, kernel_size, stride, padding):\n",
    "            layer = nn.Sequential(\n",
    "                nn.Conv2d(in_channels, out_channels, kernel_size, stride, padding),\n",
    "                nn.ReLU()\n",
    "            )\n",
    "            return layer\n",
    "        \n",
    "        self.conv1 = CBALayer(1, 8, 3, 1, 0)\n",
    "        self.conv2 = CBALayer(8, 16, 3, 1, 0)\n",
    "        self.conv3 = CBALayer(16, 32, 3, 1, 0)\n",
    "        \n",
    "        self.fc1 = nn.Linear(32*15*15, 100)\n",
    "        self.relu = nn.ReLU()\n",
    "        self.fc2 = nn.Linear(100, 2)\n",
    "\n",
    "    def forward(self, x):\n",
    "        x = self.conv1(x)\n",
    "        x = self.conv2(x)\n",
    "        x = self.conv3(x)\n",
    "        x.register_hook(self.activations_hook)\n",
    "\n",
    "        x = x.view(x.size(0), -1)\n",
    "        x = self.relu(self.fc1(x))\n",
    "        x = self.fc2(x)\n",
    "\n",
    "        return x\n",
    "    \n",
    "    def activations_hook(self, grad):\n",
    "        self.gradients = grad\n",
    "\n",
    "    def get_activations_gradient(self):\n",
    "        return self.gradients\n",
    "\n",
    "    def get_activations(self, x, y, loss_gcam):\n",
    "        pred_g = self.forward(x)\n",
    "        loss_g = loss_gcam(pred_g, y)\n",
    "        loss_g.backward()\n",
    "\n",
    "        pooled_grad = torch.mean(self.gradients, dim=[2, 3]) # (b, 32, 15, 15) -> (b, 32)     # (neuron importance weight, a)\n",
    "\n",
    "        x = self.conv1(x)\n",
    "        x = self.conv2(x)\n",
    "        activations = self.conv3(x)\n",
    "        for b in range(activations.size(0)):\n",
    "            for i in range(activations.size(1)): # 각 feature 마다 weight와 곱하기\n",
    "                activations[b, i, :, :] *= pooled_grad[b, i]\n",
    "                \n",
    "        heatmap = torch.sum(activations, dim=1)\n",
    "        heatmap = F.relu(heatmap)\n",
    "    \n",
    "        # 데이터 정규화\n",
    "        normalize_heatmap = min_max_normalize(heatmap)\n",
    "        return normalize_heatmap    "
   ]
  },
  {
   "cell_type": "code",
   "execution_count": 165,
   "metadata": {},
   "outputs": [
    {
     "name": "stdout",
     "output_type": "stream",
     "text": [
      "----------------------------------------------------------------\n",
      "        Layer (type)               Output Shape         Param #\n",
      "================================================================\n",
      "            Conv2d-1            [-1, 8, 19, 19]              80\n",
      "              ReLU-2            [-1, 8, 19, 19]               0\n",
      "            Conv2d-3           [-1, 16, 17, 17]           1,168\n",
      "              ReLU-4           [-1, 16, 17, 17]               0\n",
      "            Conv2d-5           [-1, 32, 15, 15]           4,640\n",
      "              ReLU-6           [-1, 32, 15, 15]               0\n",
      "            Linear-7                  [-1, 100]         720,100\n",
      "              ReLU-8                  [-1, 100]               0\n",
      "            Linear-9                    [-1, 2]             202\n",
      "================================================================\n",
      "Total params: 726,190\n",
      "Trainable params: 726,190\n",
      "Non-trainable params: 0\n",
      "----------------------------------------------------------------\n",
      "Input size (MB): 0.00\n",
      "Forward/backward pass size (MB): 0.23\n",
      "Params size (MB): 2.77\n",
      "Estimated Total Size (MB): 3.00\n",
      "----------------------------------------------------------------\n"
     ]
    }
   ],
   "source": [
    "from torchsummary import summary\n",
    "gcam_model = Gradcam().to(device)\n",
    "summary(gcam_model, (1, 21, 21), device='cuda')"
   ]
  },
  {
   "cell_type": "code",
   "execution_count": 166,
   "metadata": {},
   "outputs": [],
   "source": [
    "gcam_optimizer = optim.Adam(gcam_model.parameters(), lr=LR)\n",
    "criterion = nn.CrossEntropyLoss()"
   ]
  },
  {
   "cell_type": "code",
   "execution_count": 167,
   "metadata": {},
   "outputs": [
    {
     "name": "stdout",
     "output_type": "stream",
     "text": [
      "Epoch [0], Train Loss: 17.21931, Train Accuracy : 0.547, \n",
      "                Val Loss : 16.917, \t Val Accuracy : 0.598\n",
      "Epoch [10], Train Loss: 3.30292, Train Accuracy : 0.979, \n",
      "                Val Loss : 2.854, \t Val Accuracy : 0.989\n",
      "Epoch [20], Train Loss: 0.91390, Train Accuracy : 0.994, \n",
      "                Val Loss : 0.762, \t Val Accuracy : 0.995\n",
      "Epoch [30], Train Loss: 0.44324, Train Accuracy : 0.995, \n",
      "                Val Loss : 0.327, \t Val Accuracy : 0.996\n",
      "Epoch [40], Train Loss: 0.31048, Train Accuracy : 0.996, \n",
      "                Val Loss : 0.197, \t Val Accuracy : 1.000\n"
     ]
    }
   ],
   "source": [
    "# 모델 학습\n",
    "for epoch in range(EPOCHS):\n",
    "    train_loss = 0\n",
    "    train_acc = 0\n",
    "    val_loss = 0\n",
    "    val_acc = 0\n",
    "\n",
    "    for tr_x, tr_y, _ in train_dataLoader:\n",
    "        tr_x = tr_x.to(device)\n",
    "        tr_y = tr_y.to(device)\n",
    "                \n",
    "        pred = gcam_model(tr_x)\n",
    "        \n",
    "        loss = criterion(pred, tr_y)\n",
    "\n",
    "        gcam_optimizer.zero_grad()\n",
    "        loss.backward()\n",
    "        gcam_optimizer.step()\n",
    "\n",
    "        train_loss += loss.item()\n",
    "\n",
    "        tr_pred = torch.argmax(pred, axis=1)\n",
    "        tr_label = torch.argmax(tr_y, axis=1)\n",
    "\n",
    "        tr_pred = tr_pred.detach().cpu().numpy()\n",
    "        tr_label = tr_label.detach().cpu().numpy()\n",
    "        correct = sum(tr_pred == tr_label)\n",
    "\n",
    "        train_acc += correct\n",
    "\n",
    "    for te_x, te_y, _ in test_dataLoader:\n",
    "        te_x = te_x.to(device)\n",
    "        te_y = te_y.to(device)\n",
    "\n",
    "        outputs = gcam_model(te_x)\n",
    "        \n",
    "        loss2 = criterion(outputs, te_y)\n",
    "        val_loss += loss2.item()\n",
    "\n",
    "        val_pred = torch.argmax(outputs, axis=1)\n",
    "        val_label = torch.argmax(te_y, axis=1)\n",
    "\n",
    "        val_pred = val_pred.detach().cpu().numpy()\n",
    "        val_label = val_label.detach().cpu().numpy()\n",
    "        correct2 = sum(val_pred == val_label)\n",
    "\n",
    "        val_acc += correct2\n",
    "        \n",
    "    if (epoch) % 10 == 0:\n",
    "        print(f'Epoch [{epoch}], Train Loss: {train_loss:.5f}, Train Accuracy : {train_acc/(TOTAL_DATACOUNT):.3f}, \\n \\\n",
    "               Val Loss : {val_loss:.3f}, \\t Val Accuracy : {val_acc/TOTAL_DATACOUNT:.3f}')\n",
    "    # if (val_acc/TOTAL_DATACOUNT) >= 0.99 and epoch > 10:\n",
    "    #     print(f'Epoch [{epoch}], Train Loss: {train_loss:.5f}, Train Accuracy : {train_acc/(TOTAL_DATACOUNT):.3f}, \\n \\\n",
    "    #            Val Loss : {val_loss:.3f}, \\t Val Accuracy : {val_acc/TOTAL_DATACOUNT:.3f}')\n",
    "    #     break"
   ]
  },
  {
   "cell_type": "code",
   "execution_count": 168,
   "metadata": {},
   "outputs": [
    {
     "data": {
      "image/png": "[encoded data removed]",
      "text/plain": [
       "<Figure size 1000x600 with 2 Axes>"
      ]
     },
     "metadata": {},
     "output_type": "display_data"
    }
   ],
   "source": [
    "# id = DATACOUNT+(DATACOUNT//4)*3\n",
    "id = NORMAL_DATACOUNT+300\n",
    "\n",
    "x, y = torch.tensor(train_data[id], dtype=torch.float32).unsqueeze(0).unsqueeze(0), train_label[id].unsqueeze(0)\n",
    "# x, y = torch.tensor(test_data[id], dtype=torch.float32).unsqueeze(0).unsqueeze(0), test_label[id].unsqueeze(0)\n",
    "\n",
    "x = x.to(device)\n",
    "y = y.to(device)\n",
    "\n",
    "activations = gcam_model.get_activations(x, y, criterion)\n",
    "\n",
    "fig = plt.figure(figsize=(10, 6))\n",
    "\n",
    "fig.add_subplot(1, 2, 1)\n",
    "plt.imshow(x.squeeze().squeeze().detach().cpu().numpy())\n",
    "\n",
    "fig.add_subplot(1, 2, 2)\n",
    "gradcam = F.interpolate(activations.unsqueeze(0), size=(21, 21), mode='bilinear')\n",
    "plt.imshow(gradcam[0, 0].detach().cpu().numpy())\n",
    "\n",
    "plt.show()"
   ]
  },
  {
   "cell_type": "code",
   "execution_count": 169,
   "metadata": {},
   "outputs": [],
   "source": [
    "def evaluate_cams(pred_cams, true_labels, threshold=0.5):\n",
    "    \"\"\"\n",
    "    Evaluates the predicted CAMs against the true labels using Precision, Recall, and F1-score.\n",
    "    \n",
    "    Args:\n",
    "    - pred_cams (torch.Tensor or np.ndarray): Predicted CAMs, shape (batch_size, 21, 21)\n",
    "    - true_labels (torch.Tensor or np.ndarray): Ground truth labels, shape (batch_size, 21, 21)\n",
    "    - threshold (float): Threshold to binarize the predicted CAMs\n",
    "\n",
    "    Returns:\n",
    "    - precision (float): Precision score\n",
    "    - recall (float): Recall score\n",
    "    - f1 (float): F1-score\n",
    "    \"\"\"\n",
    "    # Ensure inputs are numpy arrays\n",
    "    if isinstance(pred_cams, torch.Tensor):\n",
    "        pred_cams = pred_cams.detach().cpu().numpy()\n",
    "    if isinstance(true_labels, torch.Tensor):\n",
    "        true_labels = true_labels.detach().cpu().numpy()\n",
    "\n",
    "    # Binarize predicted CAMs based on the threshold\n",
    "    bin_pred_cams = (pred_cams >= threshold).astype(int)\n",
    "\n",
    "    # Flatten the arrays\n",
    "    bin_pred_cams_flat = bin_pred_cams.flatten()\n",
    "    true_labels_flat = true_labels.flatten()\n",
    "\n",
    "    # Calculate precision, recall, and F1-score\n",
    "    precision = precision_score(true_labels_flat, bin_pred_cams_flat, average='binary')\n",
    "    recall = recall_score(true_labels_flat, bin_pred_cams_flat, average='binary')\n",
    "    f1 = f1_score(true_labels_flat, bin_pred_cams_flat, average='binary')\n",
    "\n",
    "    return precision, recall, f1"
   ]
  },
  {
   "cell_type": "code",
   "execution_count": 170,
   "metadata": {},
   "outputs": [],
   "source": [
    "activations = gcam_model.get_activations(x, y, criterion)"
   ]
  },
  {
   "cell_type": "code",
   "execution_count": 171,
   "metadata": {},
   "outputs": [],
   "source": [
    "cam_pred = []\n",
    "cam_true = []\n",
    "for te_x, te_y, _ in test_dataLoader:\n",
    "        bin_true_cams = (te_x >= 0.32).type(torch.int16)\n",
    "        te_x = te_x.to(device)\n",
    "        te_y = te_y.to(device)\n",
    "\n",
    "        activations = gcam_model.get_activations(te_x, te_y, criterion)\n",
    "        gradcam = F.interpolate(activations.unsqueeze(1), size=(21, 21), mode='bilinear')\n",
    "        # Binarize predicted CAMs based on the threshold\n",
    "\n",
    "        cam_pred.append(gradcam.detach().cpu().numpy())\n",
    "        cam_true.append(bin_true_cams.cpu().numpy())\n",
    "\n",
    "cam_pred = np.concatenate(cam_pred, axis=0)\n",
    "cam_true = np.concatenate(cam_true, axis=0)"
   ]
  },
  {
   "cell_type": "code",
   "execution_count": 172,
   "metadata": {},
   "outputs": [
    {
     "data": {
      "text/plain": [
       "((800, 1, 21, 21), (800, 1, 21, 21))"
      ]
     },
     "execution_count": 172,
     "metadata": {},
     "output_type": "execute_result"
    }
   ],
   "source": [
    "cam_pred.shape, cam_true.shape"
   ]
  },
  {
   "cell_type": "code",
   "execution_count": 173,
   "metadata": {},
   "outputs": [
    {
     "data": {
      "text/plain": [
       "<matplotlib.image.AxesImage at 0x7f10ccdf9240>"
      ]
     },
     "execution_count": 173,
     "metadata": {},
     "output_type": "execute_result"
    },
    {
     "data": {
      "image/png": "[encoded data removed]",
      "text/plain": [
       "<Figure size 640x480 with 1 Axes>"
      ]
     },
     "metadata": {},
     "output_type": "display_data"
    }
   ],
   "source": [
    "plt.imshow(cam_pred[NORMAL_DATACOUNT][0])"
   ]
  },
  {
   "cell_type": "code",
   "execution_count": 174,
   "metadata": {},
   "outputs": [
    {
     "data": {
      "text/plain": [
       "2454"
      ]
     },
     "execution_count": 174,
     "metadata": {},
     "output_type": "execute_result"
    }
   ],
   "source": [
    "np.sum(cam_true)"
   ]
  },
  {
   "cell_type": "code",
   "execution_count": 175,
   "metadata": {},
   "outputs": [
    {
     "name": "stdout",
     "output_type": "stream",
     "text": [
      "Precision: 0.0443\n",
      "Recall: 0.2910\n",
      "F1-score: 0.0769\n"
     ]
    }
   ],
   "source": [
    "precision, recall, f1 = evaluate_cams(cam_pred, cam_true, threshold=0.32)\n",
    "print(f'Precision: {precision:.4f}')\n",
    "print(f'Recall: {recall:.4f}')\n",
    "print(f'F1-score: {f1:.4f}')"
   ]
  },
  {
   "cell_type": "markdown",
   "metadata": {},
   "source": [
    "# Shapley Value"
   ]
  },
  {
   "cell_type": "code",
   "execution_count": 176,
   "metadata": {},
   "outputs": [],
   "source": [
    "clear_gpu_cache()"
   ]
  },
  {
   "cell_type": "code",
   "execution_count": 177,
   "metadata": {},
   "outputs": [],
   "source": [
    "class Shapley(nn.Module):\n",
    "    def __init__(self):\n",
    "        super(Shapley, self).__init__()\n",
    "\n",
    "        def CBALayer(in_channels, out_channels, kernel_size, stride, padding):\n",
    "            layer = nn.Sequential(\n",
    "                nn.Conv2d(in_channels, out_channels, kernel_size, stride, padding),\n",
    "                nn.ReLU()\n",
    "            )\n",
    "            return layer\n",
    "        \n",
    "        self.conv1 = CBALayer(1, 8, 3, 1, 0)\n",
    "        self.conv2 = CBALayer(8, 16, 3, 1, 0)\n",
    "        self.conv3 = CBALayer(16, 32, 3, 1, 0)\n",
    "        \n",
    "        self.fc1 = nn.Linear(32*15*15, 100)\n",
    "        self.relu = nn.ReLU()\n",
    "        self.fc2 = nn.Linear(100, 2)\n",
    "\n",
    "    def forward(self, x):\n",
    "        x = self.conv1(x)\n",
    "        x = self.conv2(x)\n",
    "        x = self.conv3(x)\n",
    "\n",
    "        x = x.view(x.size(0), -1)\n",
    "        x = self.relu(self.fc1(x))\n",
    "        x = self.fc2(x)\n",
    "\n",
    "        return x"
   ]
  },
  {
   "cell_type": "code",
   "execution_count": 178,
   "metadata": {},
   "outputs": [
    {
     "name": "stdout",
     "output_type": "stream",
     "text": [
      "----------------------------------------------------------------\n",
      "        Layer (type)               Output Shape         Param #\n",
      "================================================================\n",
      "            Conv2d-1            [-1, 8, 19, 19]              80\n",
      "              ReLU-2            [-1, 8, 19, 19]               0\n",
      "            Conv2d-3           [-1, 16, 17, 17]           1,168\n",
      "              ReLU-4           [-1, 16, 17, 17]               0\n",
      "            Conv2d-5           [-1, 32, 15, 15]           4,640\n",
      "              ReLU-6           [-1, 32, 15, 15]               0\n",
      "            Linear-7                  [-1, 100]         720,100\n",
      "              ReLU-8                  [-1, 100]               0\n",
      "            Linear-9                    [-1, 2]             202\n",
      "================================================================\n",
      "Total params: 726,190\n",
      "Trainable params: 726,190\n",
      "Non-trainable params: 0\n",
      "----------------------------------------------------------------\n",
      "Input size (MB): 0.00\n",
      "Forward/backward pass size (MB): 0.23\n",
      "Params size (MB): 2.77\n",
      "Estimated Total Size (MB): 3.00\n",
      "----------------------------------------------------------------\n"
     ]
    }
   ],
   "source": [
    "from torchsummary import summary\n",
    "shapley_model = Shapley().to(device)\n",
    "summary(shapley_model, (1, 21, 21), device='cuda')"
   ]
  },
  {
   "cell_type": "code",
   "execution_count": 179,
   "metadata": {},
   "outputs": [],
   "source": [
    "shapley_optimizer = optim.Adam(shapley_model.parameters(), lr=LR)"
   ]
  },
  {
   "cell_type": "code",
   "execution_count": 180,
   "metadata": {},
   "outputs": [
    {
     "name": "stdout",
     "output_type": "stream",
     "text": [
      "Epoch [0], Train Loss: 17.08624, Train Accuracy : 0.537, \n",
      "                Val Loss : 16.824, \t Val Accuracy : 0.917\n",
      "Epoch [10], Train Loss: 3.98169, Train Accuracy : 0.975, \n",
      "                Val Loss : 3.754, \t Val Accuracy : 0.989\n",
      "Epoch [20], Train Loss: 1.13937, Train Accuracy : 0.993, \n",
      "                Val Loss : 0.986, \t Val Accuracy : 0.995\n",
      "Epoch [30], Train Loss: 0.61976, Train Accuracy : 0.994, \n",
      "                Val Loss : 0.464, \t Val Accuracy : 0.995\n",
      "Epoch [40], Train Loss: 0.37843, Train Accuracy : 0.996, \n",
      "                Val Loss : 0.297, \t Val Accuracy : 0.996\n"
     ]
    }
   ],
   "source": [
    "train_hist_loss = []\n",
    "train_hist_acc = []\n",
    "\n",
    "# 모델 학습\n",
    "for epoch in range(EPOCHS):\n",
    "    train_loss = 0\n",
    "    train_acc = 0\n",
    "    val_loss = 0\n",
    "    val_acc = 0\n",
    "    for tr_x, tr_y, _ in train_dataLoader:\n",
    "        tr_x = tr_x.to(device)\n",
    "        tr_y = tr_y.to(device)\n",
    "                \n",
    "        pred = shapley_model(tr_x)\n",
    "        \n",
    "        loss = criterion(pred, tr_y)\n",
    "\n",
    "        shapley_optimizer.zero_grad()\n",
    "        loss.backward()\n",
    "        shapley_optimizer.step()\n",
    "\n",
    "        train_loss += loss.item()\n",
    "\n",
    "        tr_pred = torch.argmax(pred, axis=1)\n",
    "        tr_label = torch.argmax(tr_y, axis=1)\n",
    "\n",
    "        tr_pred = tr_pred.detach().cpu().numpy()\n",
    "        tr_label = tr_label.detach().cpu().numpy()\n",
    "        correct = sum(tr_pred == tr_label)\n",
    "\n",
    "        train_acc += correct\n",
    "\n",
    "    for te_x, te_y, _ in test_dataLoader:\n",
    "        te_x = te_x.to(device)\n",
    "        te_y = te_y.to(device)\n",
    "\n",
    "        outputs = shapley_model(te_x)\n",
    "        \n",
    "        loss2 = criterion(outputs, te_y)\n",
    "        val_loss += loss2.item()\n",
    "\n",
    "        val_pred = torch.argmax(outputs, axis=1)\n",
    "        val_label = torch.argmax(te_y, axis=1)\n",
    "\n",
    "        val_pred = val_pred.detach().cpu().numpy()\n",
    "        val_label = val_label.detach().cpu().numpy()\n",
    "        correct2 = sum(val_pred == val_label)\n",
    "\n",
    "        val_acc += correct2\n",
    "        \n",
    "    if (epoch) % 10 == 0:\n",
    "        print(f'Epoch [{epoch}], Train Loss: {train_loss:.5f}, Train Accuracy : {train_acc/(TOTAL_DATACOUNT):.3f}, \\n \\\n",
    "               Val Loss : {val_loss:.3f}, \\t Val Accuracy : {val_acc/TOTAL_DATACOUNT:.3f}')\n",
    "    # if (val_acc/TOTAL_DATACOUNT) >= 0.99 and epoch > 10:\n",
    "    #     print(f'Epoch [{epoch}], Train Loss: {train_loss:.5f}, Train Accuracy : {train_acc/(TOTAL_DATACOUNT):.3f}, \\n \\\n",
    "    #            Val Loss : {val_loss:.3f}, \\t Val Accuracy : {val_acc/TOTAL_DATACOUNT:.3f}')\n",
    "    #     break"
   ]
  },
  {
   "cell_type": "code",
   "execution_count": 181,
   "metadata": {},
   "outputs": [],
   "source": [
    "import shap\n",
    "\n",
    "def show_attributions(model, td, tl, d):\n",
    "    # Predict the probabilities of the digits using the test images\n",
    "    output = model(td.to(device))\n",
    "    # Get the index of the max log-probability\n",
    "    pred = output.max(1, keepdim=True)[1] \n",
    "    # Convert to numpy only once to save time\n",
    "    pred_np = pred.detach().cpu().numpy() \n",
    "\n",
    "    expl = shap.DeepExplainer(model, d.to(device))\n",
    "\n",
    "    shap_values_list = []  # To store SHAP values\n",
    "\n",
    "    for i in range(0, len(td)):\n",
    "        ti = td[[i]]            # (batch, channel, height, weight)\n",
    "        sv = np.array(expl.shap_values(ti))\n",
    "        shap_values_list.append(sv)  # Store the SHAP values\n",
    "\n",
    "        sn = [np.swapaxes(np.swapaxes(s, 1, -1), 1, 2) for s in sv] # np.swapaxes(, 2, 3)\n",
    "        tn = np.swapaxes(np.swapaxes(ti.detach().cpu().numpy(), 1, -1), 1, 2)\n",
    "\n",
    "        # Prepare the attribution plot, but do not draw it yet\n",
    "        # We will add more info to the plots later in the code\n",
    "        shap.image_plot(sn, -tn, show=False)                # shap_values : (class, samples, height, width, channels), images : (samples, height, width, channels)\n",
    "\n",
    "        # Prepare to augment the plot\n",
    "        fig = plt.gcf()\n",
    "        allaxes = fig.get_axes()\n",
    "    \n",
    "        # Show the actual/predicted class\n",
    "        allaxes[0].set_title('Actual: {}, pred: {}'.format(\n",
    "            torch.argmax(tl[i]).item(), pred_np[i][0]))\n",
    "        \n",
    "        allaxes[1].set_title('Normal')\n",
    "        allaxes[2].set_title('Anormaly')       \n",
    "\n",
    "        plt.show()\n",
    "    \n",
    "    return expl, shap_values_list"
   ]
  },
  {
   "cell_type": "code",
   "execution_count": 182,
   "metadata": {},
   "outputs": [
    {
     "data": {
      "image/png": "[encoded data removed]",
      "text/plain": [
       "<Figure size 900x500 with 4 Axes>"
      ]
     },
     "metadata": {},
     "output_type": "display_data"
    }
   ],
   "source": [
    "# sv_data, sv_label, _ = next(iter(train_dataLoader))\n",
    "# d = sv_data[0].unsqueeze(1)\n",
    "d = torch.tensor(train_data, dtype=torch.float32).unsqueeze(1)\n",
    "\n",
    "explainer, shap_values_list = show_attributions(shapley_model, x, y, d)"
   ]
  },
  {
   "cell_type": "code",
   "execution_count": 183,
   "metadata": {},
   "outputs": [
    {
     "data": {
      "text/plain": [
       "(2, 21, 21)"
      ]
     },
     "execution_count": 183,
     "metadata": {},
     "output_type": "execute_result"
    }
   ],
   "source": [
    "# Convert list of SHAP values to a single numpy array\n",
    "shap_values = np.array(shap_values_list)\n",
    "shap_values.resize(2, 21, 21)\n",
    "shap_values.shape"
   ]
  },
  {
   "cell_type": "code",
   "execution_count": 184,
   "metadata": {},
   "outputs": [
    {
     "data": {
      "image/png": "[encoded data removed]",
      "text/plain": [
       "<Figure size 640x480 with 1 Axes>"
      ]
     },
     "metadata": {},
     "output_type": "display_data"
    }
   ],
   "source": [
    "plt.imshow(shap_values[1])\n",
    "plt.show()"
   ]
  },
  {
   "cell_type": "code",
   "execution_count": 185,
   "metadata": {},
   "outputs": [
    {
     "data": {
      "text/plain": [
       "torch.Size([800, 21, 21])"
      ]
     },
     "execution_count": 185,
     "metadata": {},
     "output_type": "execute_result"
    }
   ],
   "source": [
    "gradcam_labels.shape"
   ]
  },
  {
   "cell_type": "code",
   "execution_count": 186,
   "metadata": {},
   "outputs": [],
   "source": [
    "cam_pred = []\n",
    "cam_true = []\n",
    "for te_x, te_y, _ in test_dataLoader:\n",
    "        bin_true_cams = (te_x >= 0.32).type(torch.int16)\n",
    "        te_x = te_x.to(device)\n",
    "        te_y = te_y.to(device)\n",
    "\n",
    "        sv = np.array(explainer.shap_values(te_x))     # (class, batch, channel, height, width)\n",
    "        shap_values = np.array(sv[1])  # Store the SHAP values \n",
    "        # shap_values.resize(shap_values.shape[0], 21, 21)\n",
    "        # Binarize predicted CAMs based on the threshold\n",
    "\n",
    "        cam_pred.append(shap_values)\n",
    "        cam_true.append(bin_true_cams.cpu().numpy())\n",
    "\n",
    "cam_pred = np.concatenate(cam_pred, axis=0)\n",
    "cam_true = np.concatenate(cam_true, axis=0)"
   ]
  },
  {
   "cell_type": "code",
   "execution_count": 187,
   "metadata": {},
   "outputs": [],
   "source": [
    "cam_pred = min_max_normalize(cam_pred, False)"
   ]
  },
  {
   "cell_type": "code",
   "execution_count": 188,
   "metadata": {},
   "outputs": [],
   "source": [
    "plt.imshow(cam_pred[10][0])\n",
    "plt.colorbar()"
   ]
  },
  {
   "cell_type": "code",
   "execution_count": 189,
   "metadata": {},
   "outputs": [],
   "source": [
    "# Evaluate metrics\n",
    "precision, recall, f1 = evaluate_cams(cam_pred, cam_true, threshold=0.32)\n",
    "print(f'Weighted Precision: {precision:.4f}')\n",
    "print(f'Weighted Recall: {recall:.4f}')\n",
    "print(f'Weighted F1-score: {f1:.4f}')"
   ]
  },
  {
   "cell_type": "code",
   "execution_count": 190,
   "metadata": {},
   "outputs": [
    {
     "name": "stdout",
     "output_type": "stream",
     "text": [
      "Sample 0:\n",
      "Point (10,10): SHAP value = 1.0\n",
      "\n"
     ]
    }
   ],
   "source": [
    "for k in range(x.shape[0]):\n",
    "\n",
    "    print(f\"Sample {k}:\")\n",
    "    \n",
    "    # SHAP 값을 평탄화하고 정렬\n",
    "    flat_ti = x[k].flatten().detach().cpu().numpy()\n",
    "    sorted_idx = np.argsort(-np.abs(flat_ti))  # 절대값 기준 내림차순 정렬\n",
    "    \n",
    "    # 변화량 기준으로 출력할지 결정\n",
    "    prev_value = None\n",
    "    threshold = 10  # 변화량 기준 임계값 설정\n",
    "    \n",
    "    for idx in sorted_idx:\n",
    "        current_value = flat_ti[idx]\n",
    "        if prev_value is not None:\n",
    "            if current_value < threshold:\n",
    "                break  # 변화량이 임계값 이하이면 출력 중단\n",
    "        \n",
    "        i, j = divmod(idx.item(), x[k].shape[1])\n",
    "        print(f\"Point ({i},{j}): SHAP value = {current_value}\")\n",
    "        prev_value = current_value\n",
    "\n",
    "    print()"
   ]
  },
  {
   "cell_type": "code",
   "execution_count": 191,
   "metadata": {},
   "outputs": [
    {
     "name": "stdout",
     "output_type": "stream",
     "text": [
      "Sample 0:\n",
      "Point (5,10): SHAP value = 1.8417119979858398\n",
      "Point (15,10): SHAP value = 1.107380986213684\n",
      "Point (10,15): SHAP value = 0.29056307673454285\n",
      "Point (5,15): SHAP value = 0.1536865085363388\n",
      "Point (10,10): SHAP value = -0.10549415647983551\n",
      "\n"
     ]
    }
   ],
   "source": [
    "for sample_index in range(0, len(x)):\n",
    "    print(f\"Sample {sample_index}:\")\n",
    "    \n",
    "    ti = x[[sample_index]]\n",
    "    shap_values = explainer.shap_values(ti)\n",
    "    sn = [np.swapaxes(np.swapaxes(s, 1, -1), 1, 2) for s in shap_values] # np.swapaxes(, 2, 3)\n",
    "    tn = np.swapaxes(np.swapaxes(ti.detach().cpu().numpy(), 1, -1), 1, 2)\n",
    "\n",
    "\n",
    "    # 현재 샘플의 SHAP 값을 가져옴\n",
    "    sample_shap_values = sn[1][0, :, :, sample_index]\n",
    "    \n",
    "    # SHAP 값을 평탄화하고 정렬\n",
    "    flat_shap_values = sample_shap_values.flatten()\n",
    "    sorted_indices = np.argsort(-np.abs(flat_shap_values))  # 절대값 기준 내림차순 정렬\n",
    "    \n",
    "    # 변화량 기준으로 출력할지 결정\n",
    "    prev_value = None\n",
    "    count = 0  # 변화량 기준 임계값 설정\n",
    "    \n",
    "    for idx in sorted_indices:\n",
    "        current_value = flat_shap_values[idx]\n",
    "        if prev_value is not None:\n",
    "            if count >= 5:\n",
    "                break  # 변화량이 임계값 이하이면 출력 중단\n",
    "        \n",
    "        i, j = divmod(idx.item(), sample_shap_values.shape[1])\n",
    "        print(f\"Point ({i},{j}): SHAP value = {current_value}\")\n",
    "        prev_value = current_value\n",
    "        count += 1\n",
    "\n",
    "print()\n"
   ]
  },
  {
   "cell_type": "markdown",
   "metadata": {},
   "source": [
    "# Proposed GradCAM"
   ]
  },
  {
   "cell_type": "code",
   "execution_count": 192,
   "metadata": {},
   "outputs": [],
   "source": [
    "clear_gpu_cache()"
   ]
  },
  {
   "cell_type": "code",
   "execution_count": 193,
   "metadata": {},
   "outputs": [],
   "source": [
    "# Featured CNN 모델 정의\n",
    "class Proposed_GradCAM(nn.Module):\n",
    "    def __init__(self):\n",
    "        super(Proposed_GradCAM, self).__init__()\n",
    "        \n",
    "        self.feature_layer1 = nn.Sequential(\n",
    "            nn.Conv2d(1, 8, kernel_size=(3,1)),\n",
    "            nn.ReLU(),\n",
    "            nn.Conv2d(8, 16, kernel_size=(3,1)),\n",
    "            nn.ReLU(),\n",
    "            nn.Conv2d(16, 32, kernel_size=(3,1)),\n",
    "            nn.ReLU(),\n",
    "        )\n",
    "\n",
    "        self.time_layer1 = nn.Sequential(\n",
    "            nn.Conv2d(1, 8, kernel_size=(1,3)),\n",
    "            nn.ReLU(),\n",
    "            nn.Conv2d(8, 16, kernel_size=(1,3)),\n",
    "            nn.ReLU(),\n",
    "            nn.Conv2d(16, 32, kernel_size=(1,3)),\n",
    "            nn.ReLU(),\n",
    "        )\n",
    "        \n",
    "        self.classifier = nn.Sequential(\n",
    "            nn.Linear(64 * 21 * 15, 100),\n",
    "            nn.ReLU(),\n",
    "            nn.Linear(100, 2)\n",
    "        )\n",
    "        self.gradients1 = None\n",
    "        self.gradients2 = None\n",
    "\n",
    "\n",
    "    def forward(self, x):\n",
    "        x1 = self.feature_layer1(x)\n",
    "        \n",
    "        x2 = self.time_layer1(x)\n",
    "\n",
    "        h1 = x1.register_hook(self.activations_hook1)\n",
    "        h2 = x2.register_hook(self.activations_hook2)\n",
    "\n",
    "        x2 = x2.permute(0,1,3,2)\n",
    "        x = torch.concat((x1,x2), dim=1)\n",
    "\n",
    "        x = x.view(x.size(0), -1)\n",
    "        x = self.classifier(x)\n",
    "        return x\n",
    "\n",
    "    def activations_hook1(self,grad):\n",
    "        self.gradients1 = grad\n",
    "\n",
    "    def activations_hook2(self,grad):\n",
    "        self.gradients2 = grad\n",
    "\n",
    "    def get_activations_gradient1(self):\n",
    "        return self.gradients1\n",
    "\n",
    "    def get_activations_gradient2(self):\n",
    "        return self.gradients2\n",
    "\n",
    "    def get_activations1(self, x, y, loss_gcam):\n",
    "\n",
    "        pred_g = self.forward(x)\n",
    "        loss_g = loss_gcam(pred_g, y)\n",
    "        loss_g.backward()\n",
    "\n",
    "        pooled_grad_v1 = torch.mean(self.gradients1, dim=[2, 3]) # (1, 32, 21, 15) -> (32)     # (neuron importance weight, a)\n",
    "\n",
    "        fx_ac = self.feature_layer1(x)\n",
    "        new_fx_ac = fx_ac.clone()  # 기존 텐서의 사본을 생성\n",
    "\n",
    "        for b in range(new_fx_ac.size(0)):  # 각 배치마다\n",
    "            for i in range(new_fx_ac.size(1)): # 각 feature 마다 weight와 곱하기\n",
    "                new_fx_ac[b, i, :, :] *= pooled_grad_v1[b, i]\n",
    "  \n",
    "        f_heatmap = torch.sum(new_fx_ac, dim=1)\n",
    "        f_heatmap = F.relu(f_heatmap)\n",
    "        \n",
    "        # 데이터 정규화\n",
    "        normalize_f_heatmap = min_max_normalize(f_heatmap)\n",
    "        return normalize_f_heatmap\n",
    "    \n",
    "    def get_activations2(self, x, y, loss_gcam):\n",
    "        pred_g = self.forward(x)\n",
    "        loss_g = loss_gcam(pred_g, y)\n",
    "        loss_g.backward()\n",
    "\n",
    "        pooled_grad_v2 = torch.mean(self.gradients2, dim=[2, 3]) # (1, 32, 15, 21) -> (32)     # (neuron importance weight, a)\n",
    "\n",
    "        tx_ac = self.time_layer1(x)\n",
    "        new_tx_ac = tx_ac.clone()  # 기존 텐서의 사본을 생성\n",
    "\n",
    "        for b in range(new_tx_ac.size(0)):  # 각 배치마다\n",
    "            for i in range(new_tx_ac.size(1)): # 각 feature 마다 weight와 곱하기\n",
    "                new_tx_ac[b, i, :, :] *= pooled_grad_v2[b, i]\n",
    "  \n",
    "        t_heatmap = torch.sum(new_tx_ac, dim=1)\n",
    "        t_heatmap = F.relu(t_heatmap)\n",
    "        \n",
    "        # 데이터 정규화\n",
    "        normalize_t_heatmap = min_max_normalize(t_heatmap)\n",
    "        return normalize_t_heatmap\n",
    "    \n",
    "\n",
    "    def get_concat_activation(self, x, y, criterion):\n",
    "        feature_gc = self.get_activations1(x, y, criterion)\n",
    "        time_gc = self.get_activations2(x, y, criterion)\n",
    "\n",
    "        time_gc = F.interpolate(time_gc.unsqueeze(1), size=(21, 21), mode='bilinear')\n",
    "        feature_gc = F.interpolate(feature_gc.unsqueeze(1), size=(21, 21), mode='bilinear')\n",
    "\n",
    "        concat_gc = min_max_normalize(time_gc+feature_gc)\n",
    "    \n",
    "        return concat_gc"
   ]
  },
  {
   "cell_type": "code",
   "execution_count": 194,
   "metadata": {},
   "outputs": [
    {
     "name": "stdout",
     "output_type": "stream",
     "text": [
      "----------------------------------------------------------------\n",
      "        Layer (type)               Output Shape         Param #\n",
      "================================================================\n",
      "            Conv2d-1            [-1, 8, 19, 21]              32\n",
      "              ReLU-2            [-1, 8, 19, 21]               0\n",
      "            Conv2d-3           [-1, 16, 17, 21]             400\n",
      "              ReLU-4           [-1, 16, 17, 21]               0\n",
      "            Conv2d-5           [-1, 32, 15, 21]           1,568\n",
      "              ReLU-6           [-1, 32, 15, 21]               0\n",
      "            Conv2d-7            [-1, 8, 21, 19]              32\n",
      "              ReLU-8            [-1, 8, 21, 19]               0\n",
      "            Conv2d-9           [-1, 16, 21, 17]             400\n",
      "             ReLU-10           [-1, 16, 21, 17]               0\n",
      "           Conv2d-11           [-1, 32, 21, 15]           1,568\n",
      "             ReLU-12           [-1, 32, 21, 15]               0\n",
      "           Linear-13                  [-1, 100]       2,016,100\n",
      "             ReLU-14                  [-1, 100]               0\n",
      "           Linear-15                    [-1, 2]             202\n",
      "================================================================\n",
      "Total params: 2,020,302\n",
      "Trainable params: 2,020,302\n",
      "Non-trainable params: 0\n",
      "----------------------------------------------------------------\n",
      "Input size (MB): 0.00\n",
      "Forward/backward pass size (MB): 0.58\n",
      "Params size (MB): 7.71\n",
      "Estimated Total Size (MB): 8.29\n",
      "----------------------------------------------------------------\n"
     ]
    }
   ],
   "source": [
    "from torchsummary import summary\n",
    "prop_gcam_model = Proposed_GradCAM().to(device)\n",
    "summary(prop_gcam_model, (1, 21, 21), device='cuda')"
   ]
  },
  {
   "cell_type": "code",
   "execution_count": 195,
   "metadata": {},
   "outputs": [],
   "source": [
    "criterion_class = nn.CrossEntropyLoss()\n",
    "criterion_gc = nn.MSELoss()\n",
    "prop_gcam_optimizer = optim.Adam(prop_gcam_model.parameters(), lr=LR)"
   ]
  },
  {
   "cell_type": "code",
   "execution_count": 196,
   "metadata": {},
   "outputs": [],
   "source": [
    "alpha = 0.2"
   ]
  },
  {
   "cell_type": "code",
   "execution_count": 197,
   "metadata": {},
   "outputs": [
    {
     "name": "stdout",
     "output_type": "stream",
     "text": [
      "Epoch [0], Train Loss: 4.95031, Train Accuracy : 0.496, \n",
      "                Val Loss : 9.354, \t Val Accuracy : 0.500\n",
      "Epoch [2], Train Loss: 4.15374, Train Accuracy : 0.545, \n",
      "                Val Loss : 5.275, \t Val Accuracy : 0.510\n",
      "Epoch [4], Train Loss: 3.54786, Train Accuracy : 0.810, \n",
      "                Val Loss : 3.917, \t Val Accuracy : 0.676\n",
      "Epoch [6], Train Loss: 3.31562, Train Accuracy : 0.886, \n",
      "                Val Loss : 3.255, \t Val Accuracy : 0.965\n",
      "Epoch [8], Train Loss: 3.02023, Train Accuracy : 0.806, \n",
      "                Val Loss : 2.958, \t Val Accuracy : 0.920\n",
      "Epoch [10], Train Loss: 2.78494, Train Accuracy : 0.871, \n",
      "                Val Loss : 2.863, \t Val Accuracy : 0.840\n",
      "Epoch [12], Train Loss: 2.35576, Train Accuracy : 0.920, \n",
      "                Val Loss : 2.328, \t Val Accuracy : 0.975\n",
      "Epoch [12], Train Loss: 2.35576, Train Accuracy : 0.920, \n",
      "                Val Loss : 2.328, \t Val Accuracy : 0.975\n"
     ]
    }
   ],
   "source": [
    "train_hist_loss = []\n",
    "train_hist_acc = []\n",
    "\n",
    "# 모델 학습\n",
    "for epoch in range(EPOCHS):\n",
    "    train_loss = 0\n",
    "    train_acc = 0\n",
    "    val_loss = 0\n",
    "    val_acc = 0\n",
    "    for tr_x, tr_y, trgc_y in train_dataLoader:\n",
    "        tr_x = tr_x.to(device)\n",
    "        tr_y = tr_y.to(device)\n",
    "        trgc_y = trgc_y.to(device)\n",
    "        \n",
    "        prop_gcam_optimizer.zero_grad()\n",
    "\n",
    "        pred = prop_gcam_model(tr_x)\n",
    "        concat_gc = prop_gcam_model.get_concat_activation(tr_x, tr_y, criterion_class)\n",
    "\n",
    "        loss_class = criterion_class(pred, tr_y)\n",
    "        loss_gc = criterion_gc(concat_gc, trgc_y)\n",
    "        loss_total = (alpha * loss_class + (1-alpha)*loss_gc)\n",
    "\n",
    "        loss_total.backward()\n",
    "        prop_gcam_optimizer.step()\n",
    "        \n",
    "        train_loss += loss_total.item()\n",
    "\n",
    "        tr_pred = torch.argmax(pred, axis=1)\n",
    "        tr_label = torch.argmax(tr_y, axis=1)\n",
    "\n",
    "        tr_pred = tr_pred.detach().cpu().numpy()\n",
    "        tr_label = tr_label.detach().cpu().numpy()\n",
    "        correct = sum(tr_pred == tr_label)\n",
    "\n",
    "        train_acc += correct\n",
    "\n",
    "    for te_x, te_y, tegc_y in test_dataLoader:\n",
    "        te_x = te_x.to(device)\n",
    "        te_y = te_y.to(device)\n",
    "        tegc_y = tegc_y.to(device)\n",
    "        \n",
    "        outputs = prop_gcam_model(te_x)\n",
    "        \n",
    "        concat_gc = prop_gcam_model.get_concat_activation(te_x, te_y, criterion_class)\n",
    "        \n",
    "        loss_class = criterion_class(outputs, te_y)\n",
    "        loss_gc = criterion_gc(concat_gc, tegc_y)\n",
    "        loss_total = (alpha * loss_class + (1-alpha)*loss_gc)\n",
    "\n",
    "        val_loss += loss_total.item()\n",
    "\n",
    "        val_pred = torch.argmax(outputs, axis=1)\n",
    "        val_label = torch.argmax(te_y, axis=1)\n",
    "\n",
    "        val_pred = val_pred.detach().cpu().numpy()\n",
    "        val_label = val_label.detach().cpu().numpy()\n",
    "        correct2 = sum(val_pred == val_label)\n",
    "\n",
    "        val_acc += correct2\n",
    "        \n",
    "\n",
    "    if (epoch) % 2 == 0:\n",
    "        print(f'Epoch [{epoch}], Train Loss: {train_loss:.5f}, Train Accuracy : {train_acc/(TOTAL_DATACOUNT):.3f}, \\n \\\n",
    "               Val Loss : {val_loss:.3f}, \\t Val Accuracy : {val_acc/TOTAL_DATACOUNT:.3f}')\n",
    "    if (val_acc/TOTAL_DATACOUNT) >= 0.97 and epoch > 10:\n",
    "        print(f'Epoch [{epoch}], Train Loss: {train_loss:.5f}, Train Accuracy : {train_acc/(TOTAL_DATACOUNT):.3f}, \\n \\\n",
    "               Val Loss : {val_loss:.3f}, \\t Val Accuracy : {val_acc/TOTAL_DATACOUNT:.3f}')\n",
    "        break"
   ]
  },
  {
   "cell_type": "code",
   "execution_count": 198,
   "metadata": {},
   "outputs": [
    {
     "data": {
      "image/png": "[encoded data removed]",
      "text/plain": [
       "<Figure size 1500x600 with 4 Axes>"
      ]
     },
     "metadata": {},
     "output_type": "display_data"
    }
   ],
   "source": [
    "# # id = DATACOUNT+(DATACOUNT//4)*3\n",
    "# id = NORMAL_DATACOUNT+150\n",
    "\n",
    "# x, y = torch.tensor(train_data[id], dtype=torch.float32).unsqueeze(0).unsqueeze(0), train_label[id].unsqueeze(0)\n",
    "# # x, y = torch.tensor(test_data[id], dtype=torch.float32).unsqueeze(0).unsqueeze(0), test_label[id].unsqueeze(0)\n",
    "\n",
    "# x = x.to(device)\n",
    "# y = y.to(device)\n",
    "\n",
    "prop_gradcam = prop_gcam_model.get_concat_activation(x, y, criterion)\n",
    "\n",
    "fig = plt.figure(figsize=(15, 6))\n",
    "\n",
    "fig.add_subplot(1, 2, 1)\n",
    "plt.imshow(x.squeeze().squeeze().detach().cpu().numpy())\n",
    "plt.colorbar()\n",
    "\n",
    "fig.add_subplot(1, 2, 2)\n",
    "plt.imshow(prop_gradcam.squeeze().squeeze().detach().cpu().numpy())\n",
    "plt.colorbar()\n",
    "plt.show()"
   ]
  },
  {
   "cell_type": "code",
   "execution_count": null,
   "metadata": {},
   "outputs": [],
   "source": [
    "cam_pred = []\n",
    "cam_true = []\n",
    "for te_x, te_y, _ in test_dataLoader:\n",
    "        bin_true_cams = (te_x >= 0.32).type(torch.int16)\n",
    "        te_x = te_x.to(device)\n",
    "        te_y = te_y.to(device)\n",
    "\n",
    "        activations = prop_gcam_model.get_concat_activation(te_x, te_y, criterion)\n",
    "        # Binarize predicted CAMs based on the threshold\n",
    "\n",
    "        cam_pred.append(activations.detach().cpu().numpy())\n",
    "        cam_true.append(bin_true_cams.cpu().numpy())\n",
    "\n",
    "cam_pred = np.concatenate(cam_pred, axis=0)\n",
    "cam_true = np.concatenate(cam_true, axis=0)"
   ]
  },
  {
   "cell_type": "code",
   "execution_count": null,
   "metadata": {},
   "outputs": [
    {
     "name": "stdout",
     "output_type": "stream",
     "text": [
      "Precision: 0.0562\n",
      "Recall: 0.4109\n",
      "F1-score: 0.0989\n"
     ]
    }
   ],
   "source": [
    "precision, recall, f1 = evaluate_cams(cam_pred, cam_true, threshold=0.32)\n",
    "print(f'Precision: {precision:.4f}')\n",
    "print(f'Recall: {recall:.4f}')\n",
    "print(f'F1-score: {f1:.4f}')"
   ]
  },
  {
   "cell_type": "code",
   "execution_count": null,
   "metadata": {},
   "outputs": [
    {
     "data": {
      "text/plain": [
       "<matplotlib.colorbar.Colorbar at 0x7f10cc181fc0>"
      ]
     },
     "execution_count": 61,
     "metadata": {},
     "output_type": "execute_result"
    },
    {
     "data": {
      "image/png": "[encoded data removed]",
      "text/plain": [
       "<Figure size 640x480 with 2 Axes>"
      ]
     },
     "metadata": {},
     "output_type": "display_data"
    }
   ],
   "source": [
    "plt.imshow(x.squeeze().squeeze().detach().cpu().numpy())\n",
    "plt.colorbar()"
   ]
  },
  {
   "cell_type": "code",
   "execution_count": null,
   "metadata": {},
   "outputs": [
    {
     "data": {
      "text/plain": [
       "((21, 15), (15, 21))"
      ]
     },
     "execution_count": 62,
     "metadata": {},
     "output_type": "execute_result"
    }
   ],
   "source": [
    "feature_gc = prop_gcam_model.get_activations1(x, y, criterion).squeeze().detach().cpu().numpy()\n",
    "time_gc = prop_gcam_model.get_activations2(x, y, criterion).squeeze().detach().cpu().numpy()\n",
    "time_gc.shape, feature_gc.shape"
   ]
  },
  {
   "cell_type": "code",
   "execution_count": null,
   "metadata": {},
   "outputs": [
    {
     "data": {
      "image/png": "[encoded data removed]",
      "text/plain": [
       "<Figure size 640x480 with 2 Axes>"
      ]
     },
     "metadata": {},
     "output_type": "display_data"
    }
   ],
   "source": [
    "plt.imshow(feature_gc)\n",
    "plt.colorbar()\n",
    "plt.show()"
   ]
  },
  {
   "cell_type": "code",
   "execution_count": null,
   "metadata": {},
   "outputs": [
    {
     "data": {
      "image/png": "[encoded data removed]",
      "text/plain": [
       "<Figure size 640x480 with 2 Axes>"
      ]
     },
     "metadata": {},
     "output_type": "display_data"
    }
   ],
   "source": [
    "plt.imshow(time_gc)\n",
    "plt.colorbar()\n",
    "plt.show()"
   ]
  },
  {
   "cell_type": "code",
   "execution_count": null,
   "metadata": {},
   "outputs": [
    {
     "data": {
      "image/png": "[encoded data removed]",
      "text/plain": [
       "<Figure size 1500x600 with 4 Axes>"
      ]
     },
     "metadata": {},
     "output_type": "display_data"
    },
    {
     "data": {
      "image/png": "[encoded data removed]",
      "text/plain": [
       "<Figure size 1500x600 with 4 Axes>"
      ]
     },
     "metadata": {},
     "output_type": "display_data"
    }
   ],
   "source": [
    "from PIL import Image\n",
    "\n",
    "feature_gc = Image.fromarray(feature_gc)\n",
    "time_gc = Image.fromarray(time_gc)\n",
    "\n",
    "\n",
    "feature_gc = feature_gc.resize((21, 21), resample=2)\n",
    "time_gc = time_gc.resize((21, 21), resample=2)\n",
    "\n",
    "fig = plt.figure(figsize=(15, 6))\n",
    "fig.add_subplot(1, 2, 1)\n",
    "plt.imshow(np.array(feature_gc))\n",
    "plt.colorbar()\n",
    "\n",
    "fig.add_subplot(1, 2, 2)\n",
    "plt.imshow(np.array(time_gc))\n",
    "plt.colorbar()\n",
    "\n",
    "feature_gc = np.asarray(feature_gc)\n",
    "time_gc = np.asarray(time_gc)\n",
    "\n",
    "prop_gradcam = (time_gc+feature_gc)/2\n",
    "\n",
    "\n",
    "fig = plt.figure(figsize=(15, 6))\n",
    "\n",
    "fig.add_subplot(1, 2, 1)\n",
    "plt.imshow(x.squeeze().squeeze().detach().cpu().numpy())\n",
    "plt.colorbar()\n",
    "\n",
    "fig.add_subplot(1, 2, 2)\n",
    "plt.imshow(prop_gradcam)\n",
    "plt.colorbar()\n",
    "plt.show()"
   ]
  },
  {
   "cell_type": "code",
   "execution_count": null,
   "metadata": {},
   "outputs": [],
   "source": []
  }
 ],
 "metadata": {
  "kernelspec": {
   "display_name": "venv",
   "language": "python",
   "name": "python3"
  },
  "language_info": {
   "codemirror_mode": {
    "name": "ipython",
    "version": 3
   },
   "file_extension": ".py",
   "mimetype": "text/x-python",
   "name": "python",
   "nbconvert_exporter": "python",
   "pygments_lexer": "ipython3",
   "version": "3.10.14"
  }
 },
 "nbformat": 4,
 "nbformat_minor": 2
}
